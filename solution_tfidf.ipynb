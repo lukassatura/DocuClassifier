{
 "cells": [
  {
   "cell_type": "markdown",
   "id": "6736c722",
   "metadata": {},
   "source": [
    "## 1. Load data\n"
   ]
  },
  {
   "cell_type": "code",
   "execution_count": 1,
   "id": "0631106a",
   "metadata": {},
   "outputs": [
    {
     "name": "stdout",
     "output_type": "stream",
     "text": [
      "All data loaded successfully.\n",
      "Sample data:\n",
      "Category 1: champion products ch approves stock split champion products inc said its board of directors approved a two for one stock split of its common shares for shareholders of record as of april the company also said its board voted to recommend to shareholders at the annual meeting april an increase in the authorized capital stock from five mln to mln shares reuter\n",
      "Category 1: cobanco inc cbco year net shr cts vs dlrs net vs assets mln vs mln deposits mln vs mln loans mln vs mln note th qtr not available year includes extraordinary gain from tax carry forward of dlrs or five cts per shr reuter\n",
      "Category 1: am international inc am nd qtr jan oper shr loss two cts vs profit seven cts oper shr profit vs profit revs mln vs mln avg shrs mln vs mln six mths oper shr profit nil vs profit cts oper net profit vs profit revs mln vs mln avg shrs mln vs mln note per shr calculated after payment of preferred dividends results exclude credits of or four cts and or nine cts for qtr and six mths vs or six cts and or cts for prior periods from operating loss carryforwards reuter\n",
      "Category 1: brown forman inc bfd th qtr net shr one dlr vs cts net mln vs mln revs mln vs mln nine mths shr dlrs vs dlrs net mln vs mln revs billion vs mln reuter\n",
      "Category 1: dean foods df sees strong th qtr earnings dean foods co expects earnings for the fourth quarter ending may to exceed those of the same year ago period chairman kenneth douglas told analysts in the fiscal fourth quarter the food processor reported earnings of cts a share douglas also said the year s sales should exceed billion dlrs up from billion dlrs the prior year he repeated an earlier projection that third quarter earnings will probably be off slightly from last year s cts a share falling in the range of cts to cts a share douglas said it was too early to project whether the anticipated fourth quarter performance would be enough for us to exceed the prior year s overall earnings of dlrs a share in douglas said dean should experience a pct improvement in our bottom line from effects of the tax reform act alone president howard dean said in fiscal the company will derive benefits of various dairy and frozen vegetable acquisitions from ryan milk to the larsen co dean also said the company will benefit from its acquisition in late december of elgin blenders inc west chicago he said the company is a major shareholder of e b i foods ltd a united kingdom blender and has licensing arrangements in australia canada brazil and japan it provides ann entry to mcdonalds corp mcd we ve been after for years douglas told analysts reuter\n"
     ]
    }
   ],
   "source": [
    "def load_data(file_path):\n",
    "    \"\"\"\n",
    "    Load data from the text file into a pandas DataFrame.\n",
    "    \"\"\"\n",
    "    with open(file_path, 'r', encoding='utf-8') as file:\n",
    "        # Read the first line to determine the separator\n",
    "        first_line = file.readline().strip()\n",
    "        num = int(first_line)\n",
    "        # Read non-empty lines, strip line separators\n",
    "        lines = [line.strip() for line in file.readlines() if line.strip()]\n",
    "    data = []\n",
    "    for line in lines:\n",
    "        label, text = line.split(' ', 1)\n",
    "        data.append((int(label), text))\n",
    "    return num, data\n",
    "\n",
    "num, data = load_data(\"trainingdata.txt\")\n",
    "if num == len(data):\n",
    "    print(\"All data loaded successfully.\")\n",
    "    print(f\"Sample data:\")  # Print first 5 samples for verification\n",
    "    for i in range(min(5, len(data))):\n",
    "        print(f\"Category {data[i][0]}: {data[i][1]}\")\n",
    "else:\n",
    "    print(f\"Warning: Expected {num} samples, but loaded {len(data)} samples.\")"
   ]
  },
  {
   "cell_type": "code",
   "execution_count": 2,
   "id": "9094f120",
   "metadata": {},
   "outputs": [
    {
     "name": "stdout",
     "output_type": "stream",
     "text": [
      "Training DataFrame:\n",
      "   label                                               text\n",
      "0      1  champion products ch approves stock split cham...\n",
      "1      1  cobanco inc cbco year net shr cts vs dlrs net ...\n",
      "2      1  am international inc am nd qtr jan oper shr lo...\n",
      "3      1  brown forman inc bfd th qtr net shr one dlr vs...\n",
      "4      1  dean foods df sees strong th qtr earnings dean...\n",
      "\n",
      "Test DataFrame:\n",
      "   label                                               text\n",
      "0      1  thackeray corp thk year loss oper shr loss cts...\n",
      "1      1  allied lyons sees substantial second half grow...\n",
      "2      1  dryclean usa year net shr cts vs cts net vs re...\n",
      "3      2  first financial ffmc acquires tel a data first...\n",
      "4      2  delta says court order will not delay merger d...\n"
     ]
    }
   ],
   "source": [
    "import pandas as pd\n",
    "\n",
    "def load_df(file_path):\n",
    "\t_, data = load_data(file_path)\n",
    "\tdf = pd.DataFrame(data, columns=['label', 'text'])\n",
    "\treturn df\n",
    "\n",
    "train_df = load_df(\"trainingdata.txt\")\n",
    "test_df = load_df(\"testingdata.txt\")\n",
    "\n",
    "print(\"Training DataFrame:\")\n",
    "print(train_df.head())\n",
    "print(\"\\nTest DataFrame:\")\n",
    "print(test_df.head())\n"
   ]
  },
  {
   "cell_type": "markdown",
   "id": "574b00f8",
   "metadata": {},
   "source": [
    "## 2. TF-IDF Vectorizer and Model Selection"
   ]
  },
  {
   "cell_type": "code",
   "execution_count": 3,
   "id": "ae71f308",
   "metadata": {},
   "outputs": [
    {
     "name": "stdout",
     "output_type": "stream",
     "text": [
      "LogReg mean F1: 0.700\n",
      "LinearSVC mean F1: 0.725\n"
     ]
    }
   ],
   "source": [
    "from sklearn.feature_extraction.text import TfidfVectorizer\n",
    "from sklearn.linear_model import LogisticRegression\n",
    "from sklearn.svm import LinearSVC\n",
    "from sklearn.model_selection import cross_val_score\n",
    "from sklearn.metrics import classification_report, confusion_matrix\n",
    "\n",
    "vectorizer = TfidfVectorizer(stop_words=\"english\", ngram_range=(1, 2), min_df=2)\n",
    "X_train = vectorizer.fit_transform(train_df['text'])\n",
    "X_test = vectorizer.transform(test_df['text'])\n",
    "\n",
    "y_train = train_df['label']\n",
    "y_test = test_df['label']\n",
    "\n",
    "models = {\n",
    "    \"LogReg\": LogisticRegression(max_iter=2000),\n",
    "    \"LinearSVC\": LinearSVC()\n",
    "}\n",
    "\n",
    "for name, model in models.items():\n",
    "    scores = cross_val_score(model, X_train, y_train, cv=5, scoring=\"f1_macro\")\n",
    "    print(f\"{name} mean F1: {scores.mean():.3f}\")"
   ]
  },
  {
   "cell_type": "markdown",
   "id": "d5b7fc13",
   "metadata": {},
   "source": [
    "## 3. Fitting and Model Evaluation"
   ]
  },
  {
   "cell_type": "code",
   "execution_count": 4,
   "id": "85250796",
   "metadata": {},
   "outputs": [
    {
     "name": "stdout",
     "output_type": "stream",
     "text": [
      "              precision    recall  f1-score   support\n",
      "\n",
      "           1      1.000     1.000     1.000         3\n",
      "           2      1.000     0.667     0.800         3\n",
      "           3      0.750     1.000     0.857         3\n",
      "           4      1.000     0.667     0.800         3\n",
      "           5      0.750     1.000     0.857         3\n",
      "           6      1.000     1.000     1.000         3\n",
      "           7      0.333     0.333     0.333         3\n",
      "           8      0.000     0.000     0.000         3\n",
      "\n",
      "    accuracy                          0.708        24\n",
      "   macro avg      0.729     0.708     0.706        24\n",
      "weighted avg      0.729     0.708     0.706        24\n",
      "\n",
      "Confusion matrix:\n",
      " [[3 0 0 0 0 0 0 0]\n",
      " [0 2 0 0 0 0 0 1]\n",
      " [0 0 3 0 0 0 0 0]\n",
      " [0 0 0 2 1 0 0 0]\n",
      " [0 0 0 0 3 0 0 0]\n",
      " [0 0 0 0 0 3 0 0]\n",
      " [0 0 0 0 0 0 1 2]\n",
      " [0 0 1 0 0 0 2 0]]\n",
      "Category 1: vs, mln, cts, vs mln, mln vs, shr, share, dlrs\n",
      "Category 2: shares, said, barbara, santa barbara, santa, dlrs, company, corp\n",
      "Category 3: trade, gatt, chief, commission, world, said, spokesman, aide\n",
      "Category 4: ferry, people, shipping, sea, water, port, belgian, restrictions\n",
      "Category 5: grain, china, crops, drought, tonnes, said, aide, late\n",
      "Category 6: opec, oil, crude, output, bpd, crude oil, february, prices\n",
      "Category 7: bank, rate, pct, rates, base, pressure, said, government\n",
      "Category 8: billion, stg, mln stg, fed, mln, yeutter, western, stg bank\n"
     ]
    }
   ],
   "source": [
    "import numpy as np\n",
    "\n",
    "clf = LinearSVC()\n",
    "clf.fit(X_train, y_train)\n",
    "\n",
    "y_pred = clf.predict(X_test)\n",
    "\n",
    "print(classification_report(y_test, y_pred, digits=3))\n",
    "print(\"Confusion matrix:\\n\", confusion_matrix(y_test, y_pred))\n",
    "\n",
    "def get_category_keywords(df, vectorizer, top_n=8):\n",
    "    keywords = {}\n",
    "    for cat in sorted(df.label.unique()):\n",
    "        texts = df[df.label == cat][\"text\"]\n",
    "        vec = vectorizer.transform(texts)\n",
    "        mean_tfidf = np.asarray(vec.mean(axis=0)).flatten()\n",
    "        top_ids = mean_tfidf.argsort()[::-1][:top_n]\n",
    "        keywords[cat] = [vectorizer.get_feature_names_out()[i] for i in top_ids]\n",
    "    return keywords\n",
    "\n",
    "category_keywords = get_category_keywords(train_df, vectorizer)\n",
    "for cat, words in category_keywords.items():\n",
    "    print(f\"Category {cat}: {', '.join(words)}\")"
   ]
  },
  {
   "cell_type": "code",
   "execution_count": null,
   "id": "f4ea0240",
   "metadata": {},
   "outputs": [],
   "source": []
  }
 ],
 "metadata": {
  "kernelspec": {
   "display_name": ".venv",
   "language": "python",
   "name": "python3"
  },
  "language_info": {
   "codemirror_mode": {
    "name": "ipython",
    "version": 3
   },
   "file_extension": ".py",
   "mimetype": "text/x-python",
   "name": "python",
   "nbconvert_exporter": "python",
   "pygments_lexer": "ipython3",
   "version": "3.13.5"
  }
 },
 "nbformat": 4,
 "nbformat_minor": 5
}
